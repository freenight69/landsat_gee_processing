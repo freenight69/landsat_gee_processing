{
 "cells": [
  {
   "cell_type": "code",
   "execution_count": 1,
   "metadata": {},
   "outputs": [
    {
     "name": "stdout",
     "output_type": "stream",
     "text": [
      "['SR_B2', 'SR_B3', 'SR_B4', 'SR_B5']\n",
      "['SR_B1', 'SR_B2', 'SR_B3', 'SR_B4']\n",
      "['blue', 'green', 'red', 'nir']\n",
      "Toal Images Count: 5\n",
      "LE07_118039_20230119\n",
      "Downloading Raw Image: LE07_118039_20230119 to G:/test\\LE07_118039_20230119.tif\n"
     ]
    },
    {
     "name": "stderr",
     "output_type": "stream",
     "text": [
      "Consider adjusting `region`, `scale` and/or `dtype` to reduce the LE07_118039_20230119.tif download size (raw: 2.50 GB).\n"
     ]
    },
    {
     "data": {
      "application/vnd.jupyter.widget-view+json": {
       "model_id": "b285f9fa21394eedabf9c863d52c65a2",
       "version_major": 2,
       "version_minor": 0
      },
      "text/plain": [
       "LE07_118039_20230119.tif: |          | 0.00/2.50G (raw) [  0.0%] in 00:00 (eta:     ?)"
      ]
     },
     "metadata": {},
     "output_type": "display_data"
    },
    {
     "name": "stdout",
     "output_type": "stream",
     "text": [
      "Downloading Visualization RGB Image to G:/test\\LE07_118039_20230119_render_RGB.tif\n",
      "Generating URL ...\n",
      "Downloading data from https://earthengine.googleapis.com/v1alpha/projects/earthengine-legacy/thumbnails/e1c8eda8319cd9d282be7514b2a1fcd9-91a384256be131bb12e0504ac0c83ee6:getPixels\n",
      "Please wait ...\n",
      "Data downloaded to G:\\test\\LE07_118039_20230119_render_RGB.tif\n",
      "Downloading Visualization NDVI Image to G:/test\\LE07_118039_20230119_render_NDVI.tif\n",
      "Generating URL ...\n",
      "Downloading data from https://earthengine.googleapis.com/v1alpha/projects/earthengine-legacy/thumbnails/3caf7b3a96e0f61c003350cdf900bb7a-e13d0881095a3485e4d81fa93ce3440b:getPixels\n",
      "Please wait ...\n",
      "Data downloaded to G:\\test\\LE07_118039_20230119_render_NDVI.tif\n",
      "LC09_118038_20230121\n",
      "Downloading Raw Image: LC09_118038_20230121 to G:/test\\LC09_118038_20230121.tif\n"
     ]
    },
    {
     "name": "stderr",
     "output_type": "stream",
     "text": [
      "Consider adjusting `region`, `scale` and/or `dtype` to reduce the LC09_118038_20230121.tif download size (raw: 2.76 GB).\n"
     ]
    },
    {
     "data": {
      "application/vnd.jupyter.widget-view+json": {
       "model_id": "e0cd14125db54f92a1148b87d042beeb",
       "version_major": 2,
       "version_minor": 0
      },
      "text/plain": [
       "LC09_118038_20230121.tif: |          | 0.00/2.76G (raw) [  0.0%] in 00:00 (eta:     ?)"
      ]
     },
     "metadata": {},
     "output_type": "display_data"
    },
    {
     "name": "stdout",
     "output_type": "stream",
     "text": [
      "Downloading Visualization RGB Image to G:/test\\LC09_118038_20230121_render_RGB.tif\n",
      "Generating URL ...\n",
      "Downloading data from https://earthengine.googleapis.com/v1alpha/projects/earthengine-legacy/thumbnails/45befd6ea4a076935eb8e9819c848d3f-130a5f3883dec51fb82c28f0ac0e9116:getPixels\n",
      "Please wait ...\n",
      "Data downloaded to G:\\test\\LC09_118038_20230121_render_RGB.tif\n",
      "Downloading Visualization NDVI Image to G:/test\\LC09_118038_20230121_render_NDVI.tif\n",
      "Generating URL ...\n",
      "Downloading data from https://earthengine.googleapis.com/v1alpha/projects/earthengine-legacy/thumbnails/eb41a64db982656d5da871bd752b535c-488a6da12320698bca56698bcfb0ca8f:getPixels\n",
      "Please wait ...\n",
      "Data downloaded to G:\\test\\LC09_118038_20230121_render_NDVI.tif\n",
      "LC08_118038_20230129\n",
      "Downloading Raw Image: LC08_118038_20230129 to G:/test\\LC08_118038_20230129.tif\n"
     ]
    },
    {
     "name": "stderr",
     "output_type": "stream",
     "text": [
      "Consider adjusting `region`, `scale` and/or `dtype` to reduce the LC08_118038_20230129.tif download size (raw: 2.75 GB).\n"
     ]
    },
    {
     "data": {
      "application/vnd.jupyter.widget-view+json": {
       "model_id": "9f36832545f0444f89cc80477a40d3b3",
       "version_major": 2,
       "version_minor": 0
      },
      "text/plain": [
       "LC08_118038_20230129.tif: |          | 0.00/2.75G (raw) [  0.0%] in 00:00 (eta:     ?)"
      ]
     },
     "metadata": {},
     "output_type": "display_data"
    },
    {
     "name": "stdout",
     "output_type": "stream",
     "text": [
      "Downloading Visualization RGB Image to G:/test\\LC08_118038_20230129_render_RGB.tif\n",
      "Generating URL ...\n",
      "Downloading data from https://earthengine.googleapis.com/v1alpha/projects/earthengine-legacy/thumbnails/8082e2d5eebcc0e9df9a1983d2223890-0dbd3d4e9e427834fc3fdfb897be1c03:getPixels\n",
      "Please wait ...\n",
      "Data downloaded to G:\\test\\LC08_118038_20230129_render_RGB.tif\n",
      "Downloading Visualization NDVI Image to G:/test\\LC08_118038_20230129_render_NDVI.tif\n",
      "Generating URL ...\n",
      "Downloading data from https://earthengine.googleapis.com/v1alpha/projects/earthengine-legacy/thumbnails/70dcef28f410ed1c4feac01c974824e2-bcdb6e47a13073458bf4216b83c3e868:getPixels\n",
      "Please wait ...\n",
      "Data downloaded to G:\\test\\LC08_118038_20230129_render_NDVI.tif\n",
      "LC08_118039_20230129\n",
      "Downloading Raw Image: LC08_118039_20230129 to G:/test\\LC08_118039_20230129.tif\n"
     ]
    },
    {
     "name": "stderr",
     "output_type": "stream",
     "text": [
      "Consider adjusting `region`, `scale` and/or `dtype` to reduce the LC08_118039_20230129.tif download size (raw: 2.71 GB).\n"
     ]
    },
    {
     "data": {
      "application/vnd.jupyter.widget-view+json": {
       "model_id": "4103e0c9770641d18dcbb46eacb11705",
       "version_major": 2,
       "version_minor": 0
      },
      "text/plain": [
       "LC08_118039_20230129.tif: |          | 0.00/2.71G (raw) [  0.0%] in 00:00 (eta:     ?)"
      ]
     },
     "metadata": {},
     "output_type": "display_data"
    },
    {
     "name": "stdout",
     "output_type": "stream",
     "text": [
      "Downloading Visualization RGB Image to G:/test\\LC08_118039_20230129_render_RGB.tif\n",
      "Generating URL ...\n",
      "Downloading data from https://earthengine.googleapis.com/v1alpha/projects/earthengine-legacy/thumbnails/d5df5b71cc39f416d10a27dbee3f6d63-036b3705a4dfa792d657759d933164cd:getPixels\n",
      "Please wait ...\n",
      "Data downloaded to G:\\test\\LC08_118039_20230129_render_RGB.tif\n",
      "Downloading Visualization NDVI Image to G:/test\\LC08_118039_20230129_render_NDVI.tif\n",
      "Generating URL ...\n",
      "Downloading data from https://earthengine.googleapis.com/v1alpha/projects/earthengine-legacy/thumbnails/8bb21f16faa1f45814116ae30b0a4a69-4eb3bee5418907176415e85e9eea993c:getPixels\n",
      "Please wait ...\n",
      "Data downloaded to G:\\test\\LC08_118039_20230129_render_NDVI.tif\n",
      "LE07_117039_20230131\n",
      "Downloading Raw Image: LE07_117039_20230131 to G:/test\\LE07_117039_20230131.tif\n"
     ]
    },
    {
     "name": "stderr",
     "output_type": "stream",
     "text": [
      "Consider adjusting `region`, `scale` and/or `dtype` to reduce the LE07_117039_20230131.tif download size (raw: 2.50 GB).\n"
     ]
    },
    {
     "data": {
      "application/vnd.jupyter.widget-view+json": {
       "model_id": "c3e662969df24d8f99a046954276e2ff",
       "version_major": 2,
       "version_minor": 0
      },
      "text/plain": [
       "LE07_117039_20230131.tif: |          | 0.00/2.50G (raw) [  0.0%] in 00:00 (eta:     ?)"
      ]
     },
     "metadata": {},
     "output_type": "display_data"
    },
    {
     "name": "stdout",
     "output_type": "stream",
     "text": [
      "Downloading Visualization RGB Image to G:/test\\LE07_117039_20230131_render_RGB.tif\n",
      "Generating URL ...\n",
      "Downloading data from https://earthengine.googleapis.com/v1alpha/projects/earthengine-legacy/thumbnails/31121bfa1e651a1906e004a907e5f2de-b01609155e9e16dbdb827f1cfc657381:getPixels\n",
      "Please wait ...\n",
      "Data downloaded to G:\\test\\LE07_117039_20230131_render_RGB.tif\n",
      "Downloading Visualization NDVI Image to G:/test\\LE07_117039_20230131_render_NDVI.tif\n",
      "Generating URL ...\n",
      "Downloading data from https://earthengine.googleapis.com/v1alpha/projects/earthengine-legacy/thumbnails/ece136e281f15523082e1658ad814d87-735cf3d431f99b10c28349457481db9e:getPixels\n",
      "Please wait ...\n",
      "Data downloaded to G:\\test\\LE07_117039_20230131_render_NDVI.tif\n",
      "Elapsed Time: 0:08:39.436923\n"
     ]
    }
   ],
   "source": [
    "#!/usr/bin/env python\n",
    "# -*- coding: utf-8 -*-\n",
    "\"\"\"\n",
    "File: landsat_test.ipynb\n",
    "Version: v1.0\n",
    "Date: 2023-03-10\n",
    "Authors: Chen G.\n",
    "Description: This script creates downloading and processing Landsat 45789 images based on Google Earth Engine.\n",
    "License: This code is distributed under the MIT License.\n",
    "\n",
    "    Parameter:\n",
    "        START_DATE: The earliest date to include images for (inclusive).\n",
    "        END_DATE: The latest date to include images for (exclusive).\n",
    "        BANDS: The Landsat image bands to select for processing.\n",
    "            'blue' - selects the SR_B2 band (0.452-0.512 μm) of Landsat 89; the SR_B1 band (0.45-0.52 μm) of Landsat 457.\n",
    "            'green' - selects the SR_B3 band (0.533-0.590 μm) of Landsat 89; the SR_B2 band (0.52-0.60 μm) of Landsat 457.\n",
    "            \"red' - selects the SR_B4 band (0.636-0.673 μm) of Landsat 89; the SR_B3 band (0.63-0.69 μm) of Landsat 457.\n",
    "            'nir' - selects the SR_B5 band (0.851-0.879 μm) of Landsat 89; the SR_B4 band (0.77-0.90 μm) of Landsat 457.\n",
    "            'swir1' - selects the SR_B6 band (1.566-1.651 μm) of Landsat 89; the SR_B5 band (1.55-1.75 μm) of Landsat 457.\n",
    "            \"swir2' - selects the SR_B7 band (2.107-2.294 μm) of Landsat 89; the SR_B7 band (2.08-2.35 μm) of Landsat 457.\n",
    "        ROI: The boundry to select for processing.\n",
    "        CLOUD_COVER_PERCENT: (Optional) cloud cover percentage to apply landsat image collection filter.\n",
    "        REMOVE_CLOUD: (Optional) whether to do the cloud removal operation.\n",
    "        CAL_NDVI: (Optional) calculate the Normalized Difference Vegetation Index (NDVI) from multiband s2 images.\n",
    "        CAL_NDMI: (Optional) calculate the Normalized Difference Moisture Index (NDMI) from multiband s2 images.\n",
    "        CLIP_TO_ROI: (Optional) clip the processed image to the region of interest.\n",
    "        EXPORT_CRS : (Optional) the coordinate system of processed collection to export.\n",
    "        EXPORT_SCALE : (Optional) the scale factor of processed collection to export.\n",
    "        SAVE_ASSETS : (Optional) exports the processed collection to an asset.\n",
    "        ASSET_ID : (Optional) the user id path to save the assets\n",
    "        SAVE_LOCAL : (Optional) download the processed images to local.\n",
    "        RENDER : (Optional) convert raw image to RGB image and download the processed images to local.\n",
    "        RENDER_SCALE : (Optional) the scale factor of RGB or NDVI image collection to export.\n",
    "        LOCAL_DIR : (Optional) where to save downloaded images.\n",
    "        \n",
    "    Returns:\n",
    "        An ee.ImageCollection with an analysis ready Landsat imagery with the cloud masked images and vegetation index band.\n",
    "\n",
    "\n",
    "    \"\"\"\n",
    "\n",
    "import ee\n",
    "import datetime\n",
    "import wrapper as wp\n",
    "\n",
    "# /***************************/\n",
    "# // MAIN\n",
    "# /***************************/\n",
    "# Parameters\n",
    "roi = ee.Geometry.Polygon(\n",
    "    [\n",
    "        [\n",
    "            [121.93826854879164, 30.970113616024253],\n",
    "            [121.92722368998854, 30.969653807534907],\n",
    "            [121.92926211306607, 30.964191528157762],\n",
    "            [121.9295732493118, 30.963142738459393],\n",
    "            [121.92982001254117, 30.96126592814542],\n",
    "            [121.92984147021329, 30.95840464144593],\n",
    "            [121.94244755425436, 30.958885338234488],\n",
    "            [121.95453596983721, 30.962624820837277],\n",
    "            [121.94630590848263, 30.981625659888707],\n",
    "            [121.93452564648922, 30.981202542714716]\n",
    "        ]\n",
    "    ]\n",
    ")\n",
    "parameter = {'START_DATE': '2023-01-01',\n",
    "             'END_DATE': '2023-03-10',\n",
    "             'BANDS': ['blue', 'green', 'red', 'nir'],\n",
    "             # 'ROI': ee.Geometry.Rectangle([-47.1634, -3.00071, -45.92746, -5.43836]),\n",
    "             'ROI': roi,\n",
    "             'CLOUD_COVER_PERCENT': 50,\n",
    "             'REMOVE_CLOUD': False,\n",
    "             'CAL_NDVI': True,\n",
    "             'CAL_NDMI': False,\n",
    "             'CLIP_TO_ROI': False,\n",
    "             'EXPORT_CRS': 'EPSG:4326',\n",
    "             'EXPORT_SCALE': 30,\n",
    "             'SAVE_ASSET': False,\n",
    "             'ASSET_ID': \"users/gongchen9369\",\n",
    "             'SAVE_LOCAL': True,\n",
    "             'RENDER': True,\n",
    "             'RENDER_SCALE': 100,\n",
    "             'LOCAL_DIR': \"G:/test\"\n",
    "             }\n",
    "\n",
    "# /***************************/\n",
    "# // MAIN\n",
    "# /***************************/\n",
    "if __name__ == \"__main__\":\n",
    "    start_time = datetime.datetime.now()\n",
    "\n",
    "    # processed s1 collection\n",
    "    landsat_processed = wp.landsat_preprocess(parameter)\n",
    "\n",
    "    end_time = datetime.datetime.now()\n",
    "    print(\"Elapsed Time:\", end_time - start_time)  # 输出程序运行所需时间"
   ]
  }
 ],
 "metadata": {
  "kernelspec": {
   "display_name": "gee",
   "language": "python",
   "name": "gee"
  },
  "language_info": {
   "codemirror_mode": {
    "name": "ipython",
    "version": 3
   },
   "file_extension": ".py",
   "mimetype": "text/x-python",
   "name": "python",
   "nbconvert_exporter": "python",
   "pygments_lexer": "ipython3",
   "version": "3.10.4"
  },
  "orig_nbformat": 4
 },
 "nbformat": 4,
 "nbformat_minor": 2
}
